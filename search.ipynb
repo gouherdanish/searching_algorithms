{
 "cells": [
  {
   "cell_type": "markdown",
   "id": "ec366074",
   "metadata": {},
   "source": [
    "## Binary Search"
   ]
  },
  {
   "cell_type": "code",
   "execution_count": 14,
   "id": "a99a4b57",
   "metadata": {},
   "outputs": [],
   "source": [
    "def binary_search(arr,target):\n",
    "    def search(arr,left,right,target):\n",
    "        mid = (left + right) // 2\n",
    "        if target == arr[mid]: return mid\n",
    "        if target < arr[mid]: return search(arr,left,mid-1,target)\n",
    "        else: return search(arr,mid+1,right,target)\n",
    "    return search(arr,0,len(arr),target)"
   ]
  },
  {
   "cell_type": "code",
   "execution_count": 15,
   "id": "3071e27b",
   "metadata": {},
   "outputs": [],
   "source": [
    "arr = [1,3,4,7,9]\n",
    "target = 7"
   ]
  },
  {
   "cell_type": "code",
   "execution_count": 16,
   "id": "ba1b1af8",
   "metadata": {},
   "outputs": [
    {
     "data": {
      "text/plain": [
       "3"
      ]
     },
     "execution_count": 16,
     "metadata": {},
     "output_type": "execute_result"
    }
   ],
   "source": [
    "binary_search(arr,target)"
   ]
  },
  {
   "cell_type": "code",
   "execution_count": null,
   "id": "8a4fe117",
   "metadata": {},
   "outputs": [],
   "source": []
  }
 ],
 "metadata": {
  "kernelspec": {
   "display_name": "mle",
   "language": "python",
   "name": "python3"
  },
  "language_info": {
   "codemirror_mode": {
    "name": "ipython",
    "version": 3
   },
   "file_extension": ".py",
   "mimetype": "text/x-python",
   "name": "python",
   "nbconvert_exporter": "python",
   "pygments_lexer": "ipython3",
   "version": "3.11.8"
  }
 },
 "nbformat": 4,
 "nbformat_minor": 5
}
